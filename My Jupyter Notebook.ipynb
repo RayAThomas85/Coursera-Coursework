{
 "cells": [
  {
   "cell_type": "markdown",
   "id": "f6cac936-0f6c-41cc-b824-090d93f9188a",
   "metadata": {
    "tags": []
   },
   "source": [
    "# My Jupyter Notebook on IBM Watson Studio"
   ]
  },
  {
   "cell_type": "markdown",
   "id": "754ca5b5-70d1-4270-b05c-5dee6a5421bd",
   "metadata": {},
   "source": [
    "**Ray Thomas**  \n",
    "Data Scientist"
   ]
  },
  {
   "cell_type": "markdown",
   "id": "f0ae8c59-93b0-4f29-9583-458ba4640864",
   "metadata": {},
   "source": [
    "*I am interested in data science because I find the potential to be endless.*"
   ]
  },
  {
   "cell_type": "markdown",
   "id": "2d9bb2b1-a4d3-45be-81ac-87440eb0e975",
   "metadata": {},
   "source": [
    "### Add 1 + 1"
   ]
  },
  {
   "cell_type": "code",
   "execution_count": 1,
   "id": "9141e050-e397-49c7-9633-9631bcae07b5",
   "metadata": {},
   "outputs": [
    {
     "data": {
      "text/plain": [
       "2"
      ]
     },
     "execution_count": 1,
     "metadata": {},
     "output_type": "execute_result"
    }
   ],
   "source": [
    "1 + 1"
   ]
  },
  {
   "cell_type": "markdown",
   "id": "f0e2a3ff-9020-40f6-b14b-1900baae538f",
   "metadata": {},
   "source": [
    "- Bullet 1\n",
    "- Bullet 2\n",
    "- Bullet 3\n",
    "***\n",
    "1. Number 1\n",
    "2. Number 2\n",
    "3. Number 3"
   ]
  }
 ],
 "metadata": {
  "kernelspec": {
   "display_name": "Python 3 (ipykernel)",
   "language": "python",
   "name": "python3"
  },
  "language_info": {
   "codemirror_mode": {
    "name": "ipython",
    "version": 3
   },
   "file_extension": ".py",
   "mimetype": "text/x-python",
   "name": "python",
   "nbconvert_exporter": "python",
   "pygments_lexer": "ipython3",
   "version": "3.9.12"
  }
 },
 "nbformat": 4,
 "nbformat_minor": 5
}
